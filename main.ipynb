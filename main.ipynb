{
 "cells": [
  {
   "cell_type": "markdown",
   "id": "living-evans",
   "metadata": {},
   "source": [
    "## importing all the libraries"
   ]
  },
  {
   "cell_type": "code",
   "execution_count": 63,
   "id": "closing-southeast",
   "metadata": {},
   "outputs": [
    {
     "name": "stderr",
     "output_type": "stream",
     "text": [
      "[nltk_data] Downloading package stopwords to\n",
      "[nltk_data]     C:\\Users\\lovey\\AppData\\Roaming\\nltk_data...\n",
      "[nltk_data]   Package stopwords is already up-to-date!\n",
      "[nltk_data] Downloading package punkt to\n",
      "[nltk_data]     C:\\Users\\lovey\\AppData\\Roaming\\nltk_data...\n",
      "[nltk_data]   Package punkt is already up-to-date!\n",
      "[nltk_data] Downloading package wordnet to\n",
      "[nltk_data]     C:\\Users\\lovey\\AppData\\Roaming\\nltk_data...\n",
      "[nltk_data]   Package wordnet is already up-to-date!\n",
      "[nltk_data] Downloading package averaged_perceptron_tagger to\n",
      "[nltk_data]     C:\\Users\\lovey\\AppData\\Roaming\\nltk_data...\n",
      "[nltk_data]   Package averaged_perceptron_tagger is already up-to-\n",
      "[nltk_data]       date!\n"
     ]
    },
    {
     "data": {
      "text/plain": [
       "True"
      ]
     },
     "execution_count": 63,
     "metadata": {},
     "output_type": "execute_result"
    }
   ],
   "source": [
    "import nltk\n",
    "import pandas as pd\n",
    "import numpy as np\n",
    "import math\n",
    "import re\n",
    "from sklearn.preprocessing import LabelEncoder\n",
    "from sklearn.preprocessing import MultiLabelBinarizer\n",
    "from sklearn.linear_model import SGDClassifier\n",
    "from sklearn.svm import LinearSVC\n",
    "from sklearn.feature_extraction.text import TfidfVectorizer\n",
    "from sklearn import model_selection, naive_bayes, svm\n",
    "from sklearn.svm import LinearSVC \n",
    "from sklearn.metrics import f1_score #for measuring performance\n",
    "from sklearn import preprocessing\n",
    "from nltk.corpus import stopwords\n",
    "import tqdm\n",
    "from nltk.tokenize import word_tokenize\n",
    "from nltk.stem import WordNetLemmatizer\n",
    "from nltk import pos_tag\n",
    "from collections import defaultdict\n",
    "from nltk.corpus import wordnet as wn\n",
    "nltk.download('stopwords')\n",
    "nltk.download('punkt')\n",
    "nltk.download('wordnet')\n",
    "nltk.download('averaged_perceptron_tagger')"
   ]
  },
  {
   "cell_type": "markdown",
   "id": "divided-customer",
   "metadata": {},
   "source": [
    "## Reading and Performing preprocessing "
   ]
  },
  {
   "cell_type": "code",
   "execution_count": 64,
   "id": "binary-baltimore",
   "metadata": {},
   "outputs": [],
   "source": [
    "# function for preprocessing the data to make the data clean and to increase efficiency\n",
    "\n",
    "def clean_text(text):\n",
    "    # remove backslash-apostrophe \n",
    "    text = re.sub(\"\\'\", \"\", text) \n",
    "    # remove everything except alphabets \n",
    "    text = re.sub(\"[^a-zA-Z]\",\" \",text) \n",
    "    # remove whitespaces \n",
    "    text = ' '.join(text.split()) \n",
    "    # convert text to lowercase \n",
    "    text = text.lower()\n",
    "    return text"
   ]
  },
  {
   "cell_type": "code",
   "execution_count": 65,
   "id": "freelance-destiny",
   "metadata": {},
   "outputs": [
    {
     "data": {
      "text/html": [
       "<div>\n",
       "<style scoped>\n",
       "    .dataframe tbody tr th:only-of-type {\n",
       "        vertical-align: middle;\n",
       "    }\n",
       "\n",
       "    .dataframe tbody tr th {\n",
       "        vertical-align: top;\n",
       "    }\n",
       "\n",
       "    .dataframe thead th {\n",
       "        text-align: right;\n",
       "    }\n",
       "</style>\n",
       "<table border=\"1\" class=\"dataframe\">\n",
       "  <thead>\n",
       "    <tr style=\"text-align: right;\">\n",
       "      <th></th>\n",
       "      <th>movie_id</th>\n",
       "      <th>movie_name</th>\n",
       "      <th>plot</th>\n",
       "      <th>genre</th>\n",
       "    </tr>\n",
       "  </thead>\n",
       "  <tbody>\n",
       "    <tr>\n",
       "      <th>0</th>\n",
       "      <td>23890098</td>\n",
       "      <td>Taxi Blues</td>\n",
       "      <td>Shlykov, a hard-working taxi driver and Lyosha...</td>\n",
       "      <td>['World cinema', 'Drama']</td>\n",
       "    </tr>\n",
       "    <tr>\n",
       "      <th>1</th>\n",
       "      <td>31186339</td>\n",
       "      <td>The Hunger Games</td>\n",
       "      <td>The nation of Panem consists of a wealthy Capi...</td>\n",
       "      <td>['Action/Adventure', 'Action', 'Science Fictio...</td>\n",
       "    </tr>\n",
       "    <tr>\n",
       "      <th>2</th>\n",
       "      <td>20663735</td>\n",
       "      <td>Narasimham</td>\n",
       "      <td>Poovalli Induchoodan  is sentenced for six yea...</td>\n",
       "      <td>['Musical', 'Action', 'Drama']</td>\n",
       "    </tr>\n",
       "    <tr>\n",
       "      <th>3</th>\n",
       "      <td>2231378</td>\n",
       "      <td>The Lemon Drop Kid</td>\n",
       "      <td>The Lemon Drop Kid , a New York City swindler,...</td>\n",
       "      <td>['Comedy']</td>\n",
       "    </tr>\n",
       "    <tr>\n",
       "      <th>4</th>\n",
       "      <td>595909</td>\n",
       "      <td>A Cry in the Dark</td>\n",
       "      <td>Seventh-day Adventist Church pastor Michael Ch...</td>\n",
       "      <td>['Crime Fiction', 'World cinema', 'Drama']</td>\n",
       "    </tr>\n",
       "  </tbody>\n",
       "</table>\n",
       "</div>"
      ],
      "text/plain": [
       "   movie_id          movie_name  \\\n",
       "0  23890098          Taxi Blues   \n",
       "1  31186339    The Hunger Games   \n",
       "2  20663735          Narasimham   \n",
       "3   2231378  The Lemon Drop Kid   \n",
       "4    595909   A Cry in the Dark   \n",
       "\n",
       "                                                plot  \\\n",
       "0  Shlykov, a hard-working taxi driver and Lyosha...   \n",
       "1  The nation of Panem consists of a wealthy Capi...   \n",
       "2  Poovalli Induchoodan  is sentenced for six yea...   \n",
       "3  The Lemon Drop Kid , a New York City swindler,...   \n",
       "4  Seventh-day Adventist Church pastor Michael Ch...   \n",
       "\n",
       "                                               genre  \n",
       "0                          ['World cinema', 'Drama']  \n",
       "1  ['Action/Adventure', 'Action', 'Science Fictio...  \n",
       "2                     ['Musical', 'Action', 'Drama']  \n",
       "3                                         ['Comedy']  \n",
       "4         ['Crime Fiction', 'World cinema', 'Drama']  "
      ]
     },
     "execution_count": 65,
     "metadata": {},
     "output_type": "execute_result"
    }
   ],
   "source": [
    "#reading the testing and training data\n",
    "\n",
    "data = pd.read_csv('train.csv')\n",
    "data_test = pd.read_csv('test.csv')\n",
    "\n",
    "data.head()"
   ]
  },
  {
   "cell_type": "code",
   "execution_count": 66,
   "id": "stainless-domain",
   "metadata": {},
   "outputs": [],
   "source": [
    "#preprocessing continued cleaning \n",
    "\n",
    "data['clean_plot'] = data['plot'].apply(lambda x : clean_text(x))\n",
    "data_test['clean_plot'] = data_test['plot'].apply(lambda x : clean_text(x))"
   ]
  },
  {
   "cell_type": "code",
   "execution_count": 67,
   "id": "tender-emergency",
   "metadata": {},
   "outputs": [
    {
     "data": {
      "text/html": [
       "<div>\n",
       "<style scoped>\n",
       "    .dataframe tbody tr th:only-of-type {\n",
       "        vertical-align: middle;\n",
       "    }\n",
       "\n",
       "    .dataframe tbody tr th {\n",
       "        vertical-align: top;\n",
       "    }\n",
       "\n",
       "    .dataframe thead th {\n",
       "        text-align: right;\n",
       "    }\n",
       "</style>\n",
       "<table border=\"1\" class=\"dataframe\">\n",
       "  <thead>\n",
       "    <tr style=\"text-align: right;\">\n",
       "      <th></th>\n",
       "      <th>movie_id</th>\n",
       "      <th>movie_name</th>\n",
       "      <th>plot</th>\n",
       "      <th>genre</th>\n",
       "      <th>clean_plot</th>\n",
       "    </tr>\n",
       "  </thead>\n",
       "  <tbody>\n",
       "    <tr>\n",
       "      <th>0</th>\n",
       "      <td>23890098</td>\n",
       "      <td>Taxi Blues</td>\n",
       "      <td>Shlykov, a hard-working taxi driver and Lyosha...</td>\n",
       "      <td>['World cinema', 'Drama']</td>\n",
       "      <td>shlykov a hard working taxi driver and lyosha ...</td>\n",
       "    </tr>\n",
       "    <tr>\n",
       "      <th>1</th>\n",
       "      <td>31186339</td>\n",
       "      <td>The Hunger Games</td>\n",
       "      <td>The nation of Panem consists of a wealthy Capi...</td>\n",
       "      <td>['Action/Adventure', 'Action', 'Science Fictio...</td>\n",
       "      <td>the nation of panem consists of a wealthy capi...</td>\n",
       "    </tr>\n",
       "    <tr>\n",
       "      <th>2</th>\n",
       "      <td>20663735</td>\n",
       "      <td>Narasimham</td>\n",
       "      <td>Poovalli Induchoodan  is sentenced for six yea...</td>\n",
       "      <td>['Musical', 'Action', 'Drama']</td>\n",
       "      <td>poovalli induchoodan is sentenced for six year...</td>\n",
       "    </tr>\n",
       "    <tr>\n",
       "      <th>3</th>\n",
       "      <td>2231378</td>\n",
       "      <td>The Lemon Drop Kid</td>\n",
       "      <td>The Lemon Drop Kid , a New York City swindler,...</td>\n",
       "      <td>['Comedy']</td>\n",
       "      <td>the lemon drop kid a new york city swindler is...</td>\n",
       "    </tr>\n",
       "    <tr>\n",
       "      <th>4</th>\n",
       "      <td>595909</td>\n",
       "      <td>A Cry in the Dark</td>\n",
       "      <td>Seventh-day Adventist Church pastor Michael Ch...</td>\n",
       "      <td>['Crime Fiction', 'World cinema', 'Drama']</td>\n",
       "      <td>seventh day adventist church pastor michael ch...</td>\n",
       "    </tr>\n",
       "  </tbody>\n",
       "</table>\n",
       "</div>"
      ],
      "text/plain": [
       "   movie_id          movie_name  \\\n",
       "0  23890098          Taxi Blues   \n",
       "1  31186339    The Hunger Games   \n",
       "2  20663735          Narasimham   \n",
       "3   2231378  The Lemon Drop Kid   \n",
       "4    595909   A Cry in the Dark   \n",
       "\n",
       "                                                plot  \\\n",
       "0  Shlykov, a hard-working taxi driver and Lyosha...   \n",
       "1  The nation of Panem consists of a wealthy Capi...   \n",
       "2  Poovalli Induchoodan  is sentenced for six yea...   \n",
       "3  The Lemon Drop Kid , a New York City swindler,...   \n",
       "4  Seventh-day Adventist Church pastor Michael Ch...   \n",
       "\n",
       "                                               genre  \\\n",
       "0                          ['World cinema', 'Drama']   \n",
       "1  ['Action/Adventure', 'Action', 'Science Fictio...   \n",
       "2                     ['Musical', 'Action', 'Drama']   \n",
       "3                                         ['Comedy']   \n",
       "4         ['Crime Fiction', 'World cinema', 'Drama']   \n",
       "\n",
       "                                          clean_plot  \n",
       "0  shlykov a hard working taxi driver and lyosha ...  \n",
       "1  the nation of panem consists of a wealthy capi...  \n",
       "2  poovalli induchoodan is sentenced for six year...  \n",
       "3  the lemon drop kid a new york city swindler is...  \n",
       "4  seventh day adventist church pastor michael ch...  "
      ]
     },
     "execution_count": 67,
     "metadata": {},
     "output_type": "execute_result"
    }
   ],
   "source": [
    "#comparing the original plot and the clean plot after preprocessing\n",
    "\n",
    "data.head()"
   ]
  },
  {
   "cell_type": "markdown",
   "id": "atmospheric-assumption",
   "metadata": {},
   "source": [
    "## Removing stopwords"
   ]
  },
  {
   "cell_type": "code",
   "execution_count": 68,
   "id": "cooked-booking",
   "metadata": {},
   "outputs": [],
   "source": [
    "#removing stopwords from the data \n",
    "\n",
    "stop_words = set(stopwords.words('english'))\n",
    "\n",
    "# function to remove stopwords\n",
    "def remove_stopwords(text):\n",
    "    no_stopword_text = [w for w in text.split() if not w in stop_words]\n",
    "    return ' '.join(no_stopword_text)\n",
    "\n",
    "data['clean_plot'] = data['clean_plot'].apply(lambda x: remove_stopwords(x))\n",
    "data_test['clean_plot'] = data_test['clean_plot'].apply(lambda x: remove_stopwords(x))"
   ]
  },
  {
   "cell_type": "code",
   "execution_count": 69,
   "id": "furnished-newman",
   "metadata": {},
   "outputs": [
    {
     "data": {
      "text/html": [
       "<div>\n",
       "<style scoped>\n",
       "    .dataframe tbody tr th:only-of-type {\n",
       "        vertical-align: middle;\n",
       "    }\n",
       "\n",
       "    .dataframe tbody tr th {\n",
       "        vertical-align: top;\n",
       "    }\n",
       "\n",
       "    .dataframe thead th {\n",
       "        text-align: right;\n",
       "    }\n",
       "</style>\n",
       "<table border=\"1\" class=\"dataframe\">\n",
       "  <thead>\n",
       "    <tr style=\"text-align: right;\">\n",
       "      <th></th>\n",
       "      <th>movie_id</th>\n",
       "      <th>movie_name</th>\n",
       "      <th>plot</th>\n",
       "      <th>genre</th>\n",
       "      <th>clean_plot</th>\n",
       "    </tr>\n",
       "  </thead>\n",
       "  <tbody>\n",
       "    <tr>\n",
       "      <th>0</th>\n",
       "      <td>33628861</td>\n",
       "      <td>Kan Simittum Neram</td>\n",
       "      <td>The film begins with a man ([[Karthik  who tri...</td>\n",
       "      <td>['Thriller']</td>\n",
       "      <td>film begins man karthik tried kill lakshmi amb...</td>\n",
       "    </tr>\n",
       "    <tr>\n",
       "      <th>1</th>\n",
       "      <td>30413435</td>\n",
       "      <td>A Million</td>\n",
       "      <td>Eight people enter a reality TV show to win 10...</td>\n",
       "      <td>['Thriller']</td>\n",
       "      <td>eight people enter reality tv show win billion...</td>\n",
       "    </tr>\n",
       "    <tr>\n",
       "      <th>2</th>\n",
       "      <td>33643382</td>\n",
       "      <td>The Rainbowmaker</td>\n",
       "      <td>Datho  has been innocent in prison for many ye...</td>\n",
       "      <td>['Romance Film']</td>\n",
       "      <td>datho innocent prison many years comes home no...</td>\n",
       "    </tr>\n",
       "    <tr>\n",
       "      <th>3</th>\n",
       "      <td>3961516</td>\n",
       "      <td>Distant</td>\n",
       "      <td>Uzak tells the story of Yusuf , a young factor...</td>\n",
       "      <td>['World cinema', 'Drama']</td>\n",
       "      <td>uzak tells story yusuf young factory worker lo...</td>\n",
       "    </tr>\n",
       "    <tr>\n",
       "      <th>4</th>\n",
       "      <td>155303</td>\n",
       "      <td>Heavy Metal</td>\n",
       "      <td>The film's title sequence story  opens with a...</td>\n",
       "      <td>['Animation', 'Indie', 'Science Fiction', 'Adv...</td>\n",
       "      <td>films title sequence story opens space shuttle...</td>\n",
       "    </tr>\n",
       "  </tbody>\n",
       "</table>\n",
       "</div>"
      ],
      "text/plain": [
       "   movie_id          movie_name  \\\n",
       "0  33628861  Kan Simittum Neram   \n",
       "1  30413435           A Million   \n",
       "2  33643382    The Rainbowmaker   \n",
       "3   3961516             Distant   \n",
       "4    155303         Heavy Metal   \n",
       "\n",
       "                                                plot  \\\n",
       "0  The film begins with a man ([[Karthik  who tri...   \n",
       "1  Eight people enter a reality TV show to win 10...   \n",
       "2  Datho  has been innocent in prison for many ye...   \n",
       "3  Uzak tells the story of Yusuf , a young factor...   \n",
       "4   The film's title sequence story  opens with a...   \n",
       "\n",
       "                                               genre  \\\n",
       "0                                       ['Thriller']   \n",
       "1                                       ['Thriller']   \n",
       "2                                   ['Romance Film']   \n",
       "3                          ['World cinema', 'Drama']   \n",
       "4  ['Animation', 'Indie', 'Science Fiction', 'Adv...   \n",
       "\n",
       "                                          clean_plot  \n",
       "0  film begins man karthik tried kill lakshmi amb...  \n",
       "1  eight people enter reality tv show win billion...  \n",
       "2  datho innocent prison many years comes home no...  \n",
       "3  uzak tells story yusuf young factory worker lo...  \n",
       "4  films title sequence story opens space shuttle...  "
      ]
     },
     "execution_count": 69,
     "metadata": {},
     "output_type": "execute_result"
    }
   ],
   "source": [
    "#visualizing the data after removal of stopwords\n",
    "\n",
    "data.head()\n",
    "data_test.head()"
   ]
  },
  {
   "cell_type": "markdown",
   "id": "bright-sight",
   "metadata": {},
   "source": [
    "## Converting data to features"
   ]
  },
  {
   "cell_type": "code",
   "execution_count": 42,
   "id": "sound-virtue",
   "metadata": {},
   "outputs": [],
   "source": [
    "from sklearn.preprocessing import MultiLabelBinarizer\n",
    "\n",
    "multilabel_binarizer = MultiLabelBinarizer()\n",
    "multilabel_binarizer.fit(data['genre'])\n",
    "multilabel_binarizer.fit(data_test['genre'])\n",
    "\n",
    "#transforming the target value\n",
    "y_train = multilabel_binarizer.transform(data['genre'])\n",
    "y_test = multilabel_binarizer.transform(data_test['genre'])"
   ]
  },
  {
   "cell_type": "code",
   "execution_count": 34,
   "id": "subtle-compact",
   "metadata": {},
   "outputs": [
    {
     "data": {
      "text/plain": [
       "array([1, 1, 1, 0, 0, 0, 0, 0, 1, 0, 0, 0, 0, 0, 0, 0, 1, 1, 1, 1, 1, 1,\n",
       "       1, 0, 1, 0, 1, 1, 1, 1, 1, 0, 0, 0, 0, 0, 0])"
      ]
     },
     "execution_count": 34,
     "metadata": {},
     "output_type": "execute_result"
    }
   ],
   "source": [
    "#verfying that the data is converted into features\n",
    "y_train[0]"
   ]
  },
  {
   "cell_type": "markdown",
   "id": "meaning-david",
   "metadata": {},
   "source": [
    "## implementing TD-IDF"
   ]
  },
  {
   "cell_type": "code",
   "execution_count": 35,
   "id": "modified-arcade",
   "metadata": {},
   "outputs": [],
   "source": [
    "tfidf_vectorizer = TfidfVectorizer(analyzer='word', max_features=10000)"
   ]
  },
  {
   "cell_type": "code",
   "execution_count": 36,
   "id": "alert-armor",
   "metadata": {},
   "outputs": [],
   "source": [
    "x_train = data['clean_plot']  #as plot is the only thing that decides the genre.\n",
    "x_test = data_test['clean_plot'] #as plot is the only thing that decides the genre."
   ]
  },
  {
   "cell_type": "code",
   "execution_count": 37,
   "id": "center-jefferson",
   "metadata": {},
   "outputs": [],
   "source": [
    "#creating TD-IDF features\n",
    "\n",
    "x_train = tfidf_vectorizer.fit_transform(x_train)\n",
    "x_test = tfidf_vectorizer.fit_transform(x_test)"
   ]
  },
  {
   "cell_type": "markdown",
   "id": "graduate-cleaning",
   "metadata": {},
   "source": [
    "## Building Machine learning Model"
   ]
  },
  {
   "cell_type": "code",
   "execution_count": 38,
   "id": "applicable-attribute",
   "metadata": {},
   "outputs": [],
   "source": [
    "#building movie genre prediction model\n",
    "\n",
    "from sklearn.multiclass import OneVsRestClassifier\n",
    "\n",
    "svc = LinearSVC()\n",
    "clf = OneVsRestClassifier(svc)"
   ]
  },
  {
   "cell_type": "code",
   "execution_count": 39,
   "id": "chinese-language",
   "metadata": {},
   "outputs": [
    {
     "name": "stderr",
     "output_type": "stream",
     "text": [
      "C:\\Users\\lovey\\anaconda3\\lib\\site-packages\\sklearn\\multiclass.py:80: UserWarning: Label 1 is present in all training examples.\n",
      "  warnings.warn(\"Label %s is present in all training examples.\" %\n",
      "C:\\Users\\lovey\\anaconda3\\lib\\site-packages\\sklearn\\multiclass.py:80: UserWarning: Label 17 is present in all training examples.\n",
      "  warnings.warn(\"Label %s is present in all training examples.\" %\n",
      "C:\\Users\\lovey\\anaconda3\\lib\\site-packages\\sklearn\\multiclass.py:80: UserWarning: Label 18 is present in all training examples.\n",
      "  warnings.warn(\"Label %s is present in all training examples.\" %\n"
     ]
    },
    {
     "data": {
      "text/plain": [
       "OneVsRestClassifier(estimator=LinearSVC())"
      ]
     },
     "execution_count": 39,
     "metadata": {},
     "output_type": "execute_result"
    }
   ],
   "source": [
    "#fitting the model on train data\n",
    "\n",
    "clf.fit(x_train, y_train)"
   ]
  },
  {
   "cell_type": "code",
   "execution_count": 40,
   "id": "considerable-throw",
   "metadata": {},
   "outputs": [],
   "source": [
    "#making prediction for movie genre\n",
    "\n",
    "y_pred = clf.predict(x_test)"
   ]
  },
  {
   "cell_type": "code",
   "execution_count": 41,
   "id": "spare-accordance",
   "metadata": {},
   "outputs": [
    {
     "data": {
      "text/plain": [
       "0.7030192686997421"
      ]
     },
     "execution_count": 41,
     "metadata": {},
     "output_type": "execute_result"
    }
   ],
   "source": [
    "#calculating F1 score\n",
    "\n",
    "f1_score(y_test, y_pred, average=\"micro\")"
   ]
  }
 ],
 "metadata": {
  "kernelspec": {
   "display_name": "Python 3",
   "language": "python",
   "name": "python3"
  },
  "language_info": {
   "codemirror_mode": {
    "name": "ipython",
    "version": 3
   },
   "file_extension": ".py",
   "mimetype": "text/x-python",
   "name": "python",
   "nbconvert_exporter": "python",
   "pygments_lexer": "ipython3",
   "version": "3.8.5"
  }
 },
 "nbformat": 4,
 "nbformat_minor": 5
}
